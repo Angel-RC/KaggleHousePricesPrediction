{
  "nbformat": 4,
  "nbformat_minor": 0,
  "metadata": {
    "colab": {
      "name": "kagglepriceprediction_part3_kerasSequantialModel.ipynb",
      "provenance": [],
      "collapsed_sections": [],
      "authorship_tag": "ABX9TyMWO7ewDtz2wkbPaIdHykoc",
      "include_colab_link": true
    },
    "kernelspec": {
      "name": "python3",
      "display_name": "Python 3"
    }
  },
  "cells": [
    {
      "cell_type": "markdown",
      "metadata": {
        "id": "view-in-github",
        "colab_type": "text"
      },
      "source": [
        "<a href=\"https://colab.research.google.com/github/jhwang1992/KaggleHousePricesPrediction/blob/master/kagglepriceprediction_part3_kerasSequantialModel.ipynb\" target=\"_parent\"><img src=\"https://colab.research.google.com/assets/colab-badge.svg\" alt=\"Open In Colab\"/></a>"
      ]
    },
    {
      "cell_type": "markdown",
      "metadata": {
        "id": "3vsQS1pb7WWN",
        "colab_type": "text"
      },
      "source": [
        "# update to TensorFlow 2.0"
      ]
    },
    {
      "cell_type": "code",
      "metadata": {
        "id": "9d8xoQ0H7Vkr",
        "colab_type": "code",
        "colab": {}
      },
      "source": [
        "# update to tensorflow 2.0\n",
        "\n",
        "!pip install --upgrade tensorflow-gpu"
      ],
      "execution_count": 0,
      "outputs": []
    },
    {
      "cell_type": "code",
      "metadata": {
        "id": "Do77jW8C7f5m",
        "colab_type": "code",
        "colab": {
          "base_uri": "https://localhost:8080/",
          "height": 35
        },
        "outputId": "8642f962-4f76-4b49-ff51-be123cbe0f29"
      },
      "source": [
        "# check whether the update is successful\n",
        "\n",
        "from __future__ import absolute_import, division, print_function, unicode_literals\n",
        "\n",
        "try:\n",
        "  import tensorflow.compat.v2 as tf\n",
        "except Exception:\n",
        "  pass\n",
        "\n",
        "tf.enable_v2_behavior()\n",
        "\n",
        "print(tf.__version__)"
      ],
      "execution_count": 1,
      "outputs": [
        {
          "output_type": "stream",
          "text": [
            "2.1.0\n"
          ],
          "name": "stdout"
        }
      ]
    },
    {
      "cell_type": "markdown",
      "metadata": {
        "id": "vh5bPF9Q7hw0",
        "colab_type": "text"
      },
      "source": [
        "# pickle load data"
      ]
    },
    {
      "cell_type": "code",
      "metadata": {
        "id": "grrTWnoq6fKM",
        "colab_type": "code",
        "colab": {
          "resources": {
            "http://localhost:8080/nbextensions/google.colab/files.js": {
              "data": "Ly8gQ29weXJpZ2h0IDIwMTcgR29vZ2xlIExMQwovLwovLyBMaWNlbnNlZCB1bmRlciB0aGUgQXBhY2hlIExpY2Vuc2UsIFZlcnNpb24gMi4wICh0aGUgIkxpY2Vuc2UiKTsKLy8geW91IG1heSBub3QgdXNlIHRoaXMgZmlsZSBleGNlcHQgaW4gY29tcGxpYW5jZSB3aXRoIHRoZSBMaWNlbnNlLgovLyBZb3UgbWF5IG9idGFpbiBhIGNvcHkgb2YgdGhlIExpY2Vuc2UgYXQKLy8KLy8gICAgICBodHRwOi8vd3d3LmFwYWNoZS5vcmcvbGljZW5zZXMvTElDRU5TRS0yLjAKLy8KLy8gVW5sZXNzIHJlcXVpcmVkIGJ5IGFwcGxpY2FibGUgbGF3IG9yIGFncmVlZCB0byBpbiB3cml0aW5nLCBzb2Z0d2FyZQovLyBkaXN0cmlidXRlZCB1bmRlciB0aGUgTGljZW5zZSBpcyBkaXN0cmlidXRlZCBvbiBhbiAiQVMgSVMiIEJBU0lTLAovLyBXSVRIT1VUIFdBUlJBTlRJRVMgT1IgQ09ORElUSU9OUyBPRiBBTlkgS0lORCwgZWl0aGVyIGV4cHJlc3Mgb3IgaW1wbGllZC4KLy8gU2VlIHRoZSBMaWNlbnNlIGZvciB0aGUgc3BlY2lmaWMgbGFuZ3VhZ2UgZ292ZXJuaW5nIHBlcm1pc3Npb25zIGFuZAovLyBsaW1pdGF0aW9ucyB1bmRlciB0aGUgTGljZW5zZS4KCi8qKgogKiBAZmlsZW92ZXJ2aWV3IEhlbHBlcnMgZm9yIGdvb2dsZS5jb2xhYiBQeXRob24gbW9kdWxlLgogKi8KKGZ1bmN0aW9uKHNjb3BlKSB7CmZ1bmN0aW9uIHNwYW4odGV4dCwgc3R5bGVBdHRyaWJ1dGVzID0ge30pIHsKICBjb25zdCBlbGVtZW50ID0gZG9jdW1lbnQuY3JlYXRlRWxlbWVudCgnc3BhbicpOwogIGVsZW1lbnQudGV4dENvbnRlbnQgPSB0ZXh0OwogIGZvciAoY29uc3Qga2V5IG9mIE9iamVjdC5rZXlzKHN0eWxlQXR0cmlidXRlcykpIHsKICAgIGVsZW1lbnQuc3R5bGVba2V5XSA9IHN0eWxlQXR0cmlidXRlc1trZXldOwogIH0KICByZXR1cm4gZWxlbWVudDsKfQoKLy8gTWF4IG51bWJlciBvZiBieXRlcyB3aGljaCB3aWxsIGJlIHVwbG9hZGVkIGF0IGEgdGltZS4KY29uc3QgTUFYX1BBWUxPQURfU0laRSA9IDEwMCAqIDEwMjQ7Ci8vIE1heCBhbW91bnQgb2YgdGltZSB0byBibG9jayB3YWl0aW5nIGZvciB0aGUgdXNlci4KY29uc3QgRklMRV9DSEFOR0VfVElNRU9VVF9NUyA9IDMwICogMTAwMDsKCmZ1bmN0aW9uIF91cGxvYWRGaWxlcyhpbnB1dElkLCBvdXRwdXRJZCkgewogIGNvbnN0IHN0ZXBzID0gdXBsb2FkRmlsZXNTdGVwKGlucHV0SWQsIG91dHB1dElkKTsKICBjb25zdCBvdXRwdXRFbGVtZW50ID0gZG9jdW1lbnQuZ2V0RWxlbWVudEJ5SWQob3V0cHV0SWQpOwogIC8vIENhY2hlIHN0ZXBzIG9uIHRoZSBvdXRwdXRFbGVtZW50IHRvIG1ha2UgaXQgYXZhaWxhYmxlIGZvciB0aGUgbmV4dCBjYWxsCiAgLy8gdG8gdXBsb2FkRmlsZXNDb250aW51ZSBmcm9tIFB5dGhvbi4KICBvdXRwdXRFbGVtZW50LnN0ZXBzID0gc3RlcHM7CgogIHJldHVybiBfdXBsb2FkRmlsZXNDb250aW51ZShvdXRwdXRJZCk7Cn0KCi8vIFRoaXMgaXMgcm91Z2hseSBhbiBhc3luYyBnZW5lcmF0b3IgKG5vdCBzdXBwb3J0ZWQgaW4gdGhlIGJyb3dzZXIgeWV0KSwKLy8gd2hlcmUgdGhlcmUgYXJlIG11bHRpcGxlIGFzeW5jaHJvbm91cyBzdGVwcyBhbmQgdGhlIFB5dGhvbiBzaWRlIGlzIGdvaW5nCi8vIHRvIHBvbGwgZm9yIGNvbXBsZXRpb24gb2YgZWFjaCBzdGVwLgovLyBUaGlzIHVzZXMgYSBQcm9taXNlIHRvIGJsb2NrIHRoZSBweXRob24gc2lkZSBvbiBjb21wbGV0aW9uIG9mIGVhY2ggc3RlcCwKLy8gdGhlbiBwYXNzZXMgdGhlIHJlc3VsdCBvZiB0aGUgcHJldmlvdXMgc3RlcCBhcyB0aGUgaW5wdXQgdG8gdGhlIG5leHQgc3RlcC4KZnVuY3Rpb24gX3VwbG9hZEZpbGVzQ29udGludWUob3V0cHV0SWQpIHsKICBjb25zdCBvdXRwdXRFbGVtZW50ID0gZG9jdW1lbnQuZ2V0RWxlbWVudEJ5SWQob3V0cHV0SWQpOwogIGNvbnN0IHN0ZXBzID0gb3V0cHV0RWxlbWVudC5zdGVwczsKCiAgY29uc3QgbmV4dCA9IHN0ZXBzLm5leHQob3V0cHV0RWxlbWVudC5sYXN0UHJvbWlzZVZhbHVlKTsKICByZXR1cm4gUHJvbWlzZS5yZXNvbHZlKG5leHQudmFsdWUucHJvbWlzZSkudGhlbigodmFsdWUpID0+IHsKICAgIC8vIENhY2hlIHRoZSBsYXN0IHByb21pc2UgdmFsdWUgdG8gbWFrZSBpdCBhdmFpbGFibGUgdG8gdGhlIG5leHQKICAgIC8vIHN0ZXAgb2YgdGhlIGdlbmVyYXRvci4KICAgIG91dHB1dEVsZW1lbnQubGFzdFByb21pc2VWYWx1ZSA9IHZhbHVlOwogICAgcmV0dXJuIG5leHQudmFsdWUucmVzcG9uc2U7CiAgfSk7Cn0KCi8qKgogKiBHZW5lcmF0b3IgZnVuY3Rpb24gd2hpY2ggaXMgY2FsbGVkIGJldHdlZW4gZWFjaCBhc3luYyBzdGVwIG9mIHRoZSB1cGxvYWQKICogcHJvY2Vzcy4KICogQHBhcmFtIHtzdHJpbmd9IGlucHV0SWQgRWxlbWVudCBJRCBvZiB0aGUgaW5wdXQgZmlsZSBwaWNrZXIgZWxlbWVudC4KICogQHBhcmFtIHtzdHJpbmd9IG91dHB1dElkIEVsZW1lbnQgSUQgb2YgdGhlIG91dHB1dCBkaXNwbGF5LgogKiBAcmV0dXJuIHshSXRlcmFibGU8IU9iamVjdD59IEl0ZXJhYmxlIG9mIG5leHQgc3RlcHMuCiAqLwpmdW5jdGlvbiogdXBsb2FkRmlsZXNTdGVwKGlucHV0SWQsIG91dHB1dElkKSB7CiAgY29uc3QgaW5wdXRFbGVtZW50ID0gZG9jdW1lbnQuZ2V0RWxlbWVudEJ5SWQoaW5wdXRJZCk7CiAgaW5wdXRFbGVtZW50LmRpc2FibGVkID0gZmFsc2U7CgogIGNvbnN0IG91dHB1dEVsZW1lbnQgPSBkb2N1bWVudC5nZXRFbGVtZW50QnlJZChvdXRwdXRJZCk7CiAgb3V0cHV0RWxlbWVudC5pbm5lckhUTUwgPSAnJzsKCiAgY29uc3QgcGlja2VkUHJvbWlzZSA9IG5ldyBQcm9taXNlKChyZXNvbHZlKSA9PiB7CiAgICBpbnB1dEVsZW1lbnQuYWRkRXZlbnRMaXN0ZW5lcignY2hhbmdlJywgKGUpID0+IHsKICAgICAgcmVzb2x2ZShlLnRhcmdldC5maWxlcyk7CiAgICB9KTsKICB9KTsKCiAgY29uc3QgY2FuY2VsID0gZG9jdW1lbnQuY3JlYXRlRWxlbWVudCgnYnV0dG9uJyk7CiAgaW5wdXRFbGVtZW50LnBhcmVudEVsZW1lbnQuYXBwZW5kQ2hpbGQoY2FuY2VsKTsKICBjYW5jZWwudGV4dENvbnRlbnQgPSAnQ2FuY2VsIHVwbG9hZCc7CiAgY29uc3QgY2FuY2VsUHJvbWlzZSA9IG5ldyBQcm9taXNlKChyZXNvbHZlKSA9PiB7CiAgICBjYW5jZWwub25jbGljayA9ICgpID0+IHsKICAgICAgcmVzb2x2ZShudWxsKTsKICAgIH07CiAgfSk7CgogIC8vIENhbmNlbCB1cGxvYWQgaWYgdXNlciBoYXNuJ3QgcGlja2VkIGFueXRoaW5nIGluIHRpbWVvdXQuCiAgY29uc3QgdGltZW91dFByb21pc2UgPSBuZXcgUHJvbWlzZSgocmVzb2x2ZSkgPT4gewogICAgc2V0VGltZW91dCgoKSA9PiB7CiAgICAgIHJlc29sdmUobnVsbCk7CiAgICB9LCBGSUxFX0NIQU5HRV9USU1FT1VUX01TKTsKICB9KTsKCiAgLy8gV2FpdCBmb3IgdGhlIHVzZXIgdG8gcGljayB0aGUgZmlsZXMuCiAgY29uc3QgZmlsZXMgPSB5aWVsZCB7CiAgICBwcm9taXNlOiBQcm9taXNlLnJhY2UoW3BpY2tlZFByb21pc2UsIHRpbWVvdXRQcm9taXNlLCBjYW5jZWxQcm9taXNlXSksCiAgICByZXNwb25zZTogewogICAgICBhY3Rpb246ICdzdGFydGluZycsCiAgICB9CiAgfTsKCiAgaWYgKCFmaWxlcykgewogICAgcmV0dXJuIHsKICAgICAgcmVzcG9uc2U6IHsKICAgICAgICBhY3Rpb246ICdjb21wbGV0ZScsCiAgICAgIH0KICAgIH07CiAgfQoKICBjYW5jZWwucmVtb3ZlKCk7CgogIC8vIERpc2FibGUgdGhlIGlucHV0IGVsZW1lbnQgc2luY2UgZnVydGhlciBwaWNrcyBhcmUgbm90IGFsbG93ZWQuCiAgaW5wdXRFbGVtZW50LmRpc2FibGVkID0gdHJ1ZTsKCiAgZm9yIChjb25zdCBmaWxlIG9mIGZpbGVzKSB7CiAgICBjb25zdCBsaSA9IGRvY3VtZW50LmNyZWF0ZUVsZW1lbnQoJ2xpJyk7CiAgICBsaS5hcHBlbmQoc3BhbihmaWxlLm5hbWUsIHtmb250V2VpZ2h0OiAnYm9sZCd9KSk7CiAgICBsaS5hcHBlbmQoc3BhbigKICAgICAgICBgKCR7ZmlsZS50eXBlIHx8ICduL2EnfSkgLSAke2ZpbGUuc2l6ZX0gYnl0ZXMsIGAgKwogICAgICAgIGBsYXN0IG1vZGlmaWVkOiAkewogICAgICAgICAgICBmaWxlLmxhc3RNb2RpZmllZERhdGUgPyBmaWxlLmxhc3RNb2RpZmllZERhdGUudG9Mb2NhbGVEYXRlU3RyaW5nKCkgOgogICAgICAgICAgICAgICAgICAgICAgICAgICAgICAgICAgICAnbi9hJ30gLSBgKSk7CiAgICBjb25zdCBwZXJjZW50ID0gc3BhbignMCUgZG9uZScpOwogICAgbGkuYXBwZW5kQ2hpbGQocGVyY2VudCk7CgogICAgb3V0cHV0RWxlbWVudC5hcHBlbmRDaGlsZChsaSk7CgogICAgY29uc3QgZmlsZURhdGFQcm9taXNlID0gbmV3IFByb21pc2UoKHJlc29sdmUpID0+IHsKICAgICAgY29uc3QgcmVhZGVyID0gbmV3IEZpbGVSZWFkZXIoKTsKICAgICAgcmVhZGVyLm9ubG9hZCA9IChlKSA9PiB7CiAgICAgICAgcmVzb2x2ZShlLnRhcmdldC5yZXN1bHQpOwogICAgICB9OwogICAgICByZWFkZXIucmVhZEFzQXJyYXlCdWZmZXIoZmlsZSk7CiAgICB9KTsKICAgIC8vIFdhaXQgZm9yIHRoZSBkYXRhIHRvIGJlIHJlYWR5LgogICAgbGV0IGZpbGVEYXRhID0geWllbGQgewogICAgICBwcm9taXNlOiBmaWxlRGF0YVByb21pc2UsCiAgICAgIHJlc3BvbnNlOiB7CiAgICAgICAgYWN0aW9uOiAnY29udGludWUnLAogICAgICB9CiAgICB9OwoKICAgIC8vIFVzZSBhIGNodW5rZWQgc2VuZGluZyB0byBhdm9pZCBtZXNzYWdlIHNpemUgbGltaXRzLiBTZWUgYi82MjExNTY2MC4KICAgIGxldCBwb3NpdGlvbiA9IDA7CiAgICB3aGlsZSAocG9zaXRpb24gPCBmaWxlRGF0YS5ieXRlTGVuZ3RoKSB7CiAgICAgIGNvbnN0IGxlbmd0aCA9IE1hdGgubWluKGZpbGVEYXRhLmJ5dGVMZW5ndGggLSBwb3NpdGlvbiwgTUFYX1BBWUxPQURfU0laRSk7CiAgICAgIGNvbnN0IGNodW5rID0gbmV3IFVpbnQ4QXJyYXkoZmlsZURhdGEsIHBvc2l0aW9uLCBsZW5ndGgpOwogICAgICBwb3NpdGlvbiArPSBsZW5ndGg7CgogICAgICBjb25zdCBiYXNlNjQgPSBidG9hKFN0cmluZy5mcm9tQ2hhckNvZGUuYXBwbHkobnVsbCwgY2h1bmspKTsKICAgICAgeWllbGQgewogICAgICAgIHJlc3BvbnNlOiB7CiAgICAgICAgICBhY3Rpb246ICdhcHBlbmQnLAogICAgICAgICAgZmlsZTogZmlsZS5uYW1lLAogICAgICAgICAgZGF0YTogYmFzZTY0LAogICAgICAgIH0sCiAgICAgIH07CiAgICAgIHBlcmNlbnQudGV4dENvbnRlbnQgPQogICAgICAgICAgYCR7TWF0aC5yb3VuZCgocG9zaXRpb24gLyBmaWxlRGF0YS5ieXRlTGVuZ3RoKSAqIDEwMCl9JSBkb25lYDsKICAgIH0KICB9CgogIC8vIEFsbCBkb25lLgogIHlpZWxkIHsKICAgIHJlc3BvbnNlOiB7CiAgICAgIGFjdGlvbjogJ2NvbXBsZXRlJywKICAgIH0KICB9Owp9CgpzY29wZS5nb29nbGUgPSBzY29wZS5nb29nbGUgfHwge307CnNjb3BlLmdvb2dsZS5jb2xhYiA9IHNjb3BlLmdvb2dsZS5jb2xhYiB8fCB7fTsKc2NvcGUuZ29vZ2xlLmNvbGFiLl9maWxlcyA9IHsKICBfdXBsb2FkRmlsZXMsCiAgX3VwbG9hZEZpbGVzQ29udGludWUsCn07Cn0pKHNlbGYpOwo=",
              "ok": true,
              "headers": [
                [
                  "content-type",
                  "application/javascript"
                ]
              ],
              "status": 200,
              "status_text": ""
            }
          },
          "base_uri": "https://localhost:8080/",
          "height": 110
        },
        "outputId": "ba7480e4-5179-4980-c60e-781e2c754db9"
      },
      "source": [
        "from google.colab import files\n",
        "uploaded = files.upload()"
      ],
      "execution_count": 2,
      "outputs": [
        {
          "output_type": "display_data",
          "data": {
            "text/html": [
              "\n",
              "     <input type=\"file\" id=\"files-e5bf59a9-1599-4268-9c8e-4a6ab82985a9\" name=\"files[]\" multiple disabled />\n",
              "     <output id=\"result-e5bf59a9-1599-4268-9c8e-4a6ab82985a9\">\n",
              "      Upload widget is only available when the cell has been executed in the\n",
              "      current browser session. Please rerun this cell to enable.\n",
              "      </output>\n",
              "      <script src=\"/nbextensions/google.colab/files.js\"></script> "
            ],
            "text/plain": [
              "<IPython.core.display.HTML object>"
            ]
          },
          "metadata": {
            "tags": []
          }
        },
        {
          "output_type": "stream",
          "text": [
            "Saving df_train.pkl to df_train.pkl\n",
            "Saving df_test.pkl to df_test.pkl\n"
          ],
          "name": "stdout"
        }
      ]
    },
    {
      "cell_type": "code",
      "metadata": {
        "id": "6bkJo-II6uXV",
        "colab_type": "code",
        "outputId": "c8ba4c95-45c6-4f89-bb7c-ca9210f235b5",
        "colab": {
          "base_uri": "https://localhost:8080/",
          "height": 35
        }
      },
      "source": [
        "import pandas as pd\n",
        "import numpy as np\n",
        "import matplotlib.pyplot as plt\n",
        "%matplotlib inline\n",
        "import seaborn as sns\n",
        "\n",
        "import pickle\n",
        "\n",
        "import warnings as wrn\n",
        "wrn.filterwarnings('ignore', category = DeprecationWarning) \n",
        "wrn.filterwarnings('ignore', category = FutureWarning) \n",
        "wrn.filterwarnings('ignore', category = UserWarning)\n",
        "\n",
        "from sklearn.impute import SimpleImputer\n",
        "from sklearn.pipeline import Pipeline\n",
        "from sklearn.model_selection import GridSearchCV, train_test_split\n",
        "from sklearn.compose import ColumnTransformer\n",
        "from sklearn.preprocessing import StandardScaler, OneHotEncoder, LabelEncoder\n",
        "from sklearn.metrics import make_scorer, mean_squared_error\n",
        "\n",
        "import tensorflow as tf\n",
        "import tensorflow_datasets as tfds\n",
        "from tensorflow import feature_column\n",
        "from tensorflow.keras import layers\n",
        "from keras.utils.vis_utils import plot_model\n",
        "from tensorflow import keras"
      ],
      "execution_count": 3,
      "outputs": [
        {
          "output_type": "stream",
          "text": [
            "Using TensorFlow backend.\n"
          ],
          "name": "stderr"
        }
      ]
    },
    {
      "cell_type": "code",
      "metadata": {
        "id": "Y2P-iYJd6uLu",
        "colab_type": "code",
        "colab": {}
      },
      "source": [
        "with open('df_train.pkl', 'rb') as f:\n",
        "    df_train = pickle.load(f)\n",
        "\n",
        "with open('df_test.pkl', 'rb') as f:\n",
        "    df_test = pickle.load(f)"
      ],
      "execution_count": 0,
      "outputs": []
    },
    {
      "cell_type": "code",
      "metadata": {
        "id": "uq2RnQcnSrwR",
        "colab_type": "code",
        "outputId": "c72263ab-5196-436a-fdae-f9de305c6cce",
        "colab": {
          "base_uri": "https://localhost:8080/",
          "height": 52
        }
      },
      "source": [
        "print('df_train shape: ', df_train.shape)\n",
        "print('df_test shape: ', df_test.shape)"
      ],
      "execution_count": 5,
      "outputs": [
        {
          "output_type": "stream",
          "text": [
            "df_train shape:  (1450, 76)\n",
            "df_test shape:  (1459, 75)\n"
          ],
          "name": "stdout"
        }
      ]
    },
    {
      "cell_type": "markdown",
      "metadata": {
        "id": "FUuSugVF1FYv",
        "colab_type": "text"
      },
      "source": [
        "# identify numeric and categorical columns"
      ]
    },
    {
      "cell_type": "code",
      "metadata": {
        "id": "lf1l4oTXSuMe",
        "colab_type": "code",
        "outputId": "55409d27-92bd-4c67-b5ea-d711a4eea610",
        "colab": {
          "base_uri": "https://localhost:8080/",
          "height": 89
        }
      },
      "source": [
        "numericColumns = []\n",
        "categoricalColumns = []\n",
        "\n",
        "for column in df_train.columns:\n",
        "  if df_train[column].dtypes==int or df_train[column].dtypes==float:\n",
        "    numericColumns.append(column)\n",
        "  else:\n",
        "    categoricalColumns.append(column)\n",
        "\n",
        "numericColumns.remove('Id')\n",
        "numericColumns.remove('SalePrice')\n",
        "\n",
        "print( len(numericColumns), 'numeric columns: ', numericColumns)\n",
        "print( len(categoricalColumns), 'categorical columns: ', categoricalColumns)\n",
        "print( 'ID and SalePrice are seperated')"
      ],
      "execution_count": 6,
      "outputs": [
        {
          "output_type": "stream",
          "text": [
            "54 numeric columns:  ['MSSubClass', 'LotFrontage', 'LotArea', 'LotShape', 'LandContour', 'Utilities', 'LandSlope', 'OverallQual', 'OverallCond', 'YearBuilt', 'YearRemodAdd', 'MasVnrArea', 'ExterQual', 'ExterCond', 'BsmtQual', 'BsmtExposure', 'BsmtFinType1', 'BsmtFinSF1', 'BsmtFinType2', 'BsmtFinSF2', 'BsmtUnfSF', 'TotalBsmtSF', 'HeatingQC', 'Electrical', '1stFlrSF', '2ndFlrSF', 'LowQualFinSF', 'GrLivArea', 'BsmtFullBath', 'BsmtHalfBath', 'FullBath', 'HalfBath', 'BedroomAbvGr', 'KitchenAbvGr', 'KitchenQual', 'TotRmsAbvGrd', 'Functional', 'Fireplaces', 'GarageYrBlt', 'GarageFinish', 'GarageCars', 'GarageArea', 'GarageQual', 'GarageCond', 'PavedDrive', 'WoodDeckSF', 'OpenPorchSF', 'EnclosedPorch', '3SsnPorch', 'ScreenPorch', 'PoolArea', 'MiscVal', 'MoSold', 'YrSold']\n",
            "20 categorical columns:  ['MSZoning', 'Street', 'LotConfig', 'Neighborhood', 'Condition1', 'Condition2', 'BldgType', 'HouseStyle', 'RoofStyle', 'RoofMatl', 'Exterior1st', 'Exterior2nd', 'MasVnrType', 'Foundation', 'BsmtCond', 'Heating', 'CentralAir', 'GarageType', 'SaleType', 'SaleCondition']\n",
            "ID and SalePrice are seperated\n"
          ],
          "name": "stdout"
        }
      ]
    },
    {
      "cell_type": "markdown",
      "metadata": {
        "id": "FgEvyjAy1NKv",
        "colab_type": "text"
      },
      "source": [
        "# data preprocessing using pandas dataframe and scikit-learn\n",
        "\n",
        "1. impute numeric and categorical columns\n",
        "\n",
        "2. labelencode string categorical columns\n",
        "\n",
        "3. split the data into train, validation\n",
        "\n",
        "4. standardscale the input datasets"
      ]
    },
    {
      "cell_type": "code",
      "metadata": {
        "id": "z8PnP6ZTedOI",
        "colab_type": "code",
        "colab": {}
      },
      "source": [
        "# categorical columns fillna\n",
        "# firstly, to avoid loss nan during NN training\n",
        "# secondly, to be able to pass to labelencoder\n",
        "\n",
        "for column in categoricalColumns:\n",
        "  df_train[column].fillna('missing', inplace = True)\n",
        "  df_test[column].fillna('missing', inplace = True)"
      ],
      "execution_count": 0,
      "outputs": []
    },
    {
      "cell_type": "code",
      "metadata": {
        "id": "eWYcN0W9dIdU",
        "colab_type": "code",
        "colab": {}
      },
      "source": [
        "# labelencode string categorical column to integer categorical column\n",
        "# tf.dataset cannot take in mixed data type, and thus need to change to numeric\n",
        "# take care of df_test labelencoder transform, there are unique labels not in df_train\n",
        "\n",
        "import bisect\n",
        "\n",
        "for column in categoricalColumns:\n",
        "  le = LabelEncoder()\n",
        "  le.fit(df_train[column])\n",
        "  df_train[column] = le.transform(df_train[column])\n",
        "  le_classes = le.classes_.tolist()\n",
        "  \n",
        "  # to handle categorical feature only in testing data\n",
        "  # handle int and string categorical columns differently\n",
        "  if type(le_classes[0]) is str:\n",
        "    df_test[column] = df_test[column].map(lambda s: 'other' if s not in le.classes_ else s)\n",
        "    bisect.insort_left(le_classes, 'other')\n",
        "    le.classes_ = le_classes\n",
        "    df_test[column] = le.transform(df_test[column])\n",
        "  else:\n",
        "    df_test[column] = df_test[column].map(lambda s: -1 if s not in le.classes_ else s)\n",
        "    bisect.insort_left(le_classes, -1)\n",
        "    le.classes_ = le_classes\n",
        "    df_test[column] = le.transform(df_test[column])"
      ],
      "execution_count": 0,
      "outputs": []
    },
    {
      "cell_type": "code",
      "metadata": {
        "id": "tRKOGuV4WsnY",
        "colab_type": "code",
        "outputId": "b264c760-7ae8-4da8-ca14-60bbb663af79",
        "colab": {
          "base_uri": "https://localhost:8080/",
          "height": 69
        }
      },
      "source": [
        "# split data into train/validation/testing pandas dataframes\n",
        "# validation dataframe is to be passed into fit()\n",
        "\n",
        "df_train, df_validation = train_test_split(df_train, test_size=0.2)\n",
        "print(len(df_train), 'train examples')\n",
        "print(len(df_validation), 'validation examples')\n",
        "print(len(df_test), 'test examples')"
      ],
      "execution_count": 9,
      "outputs": [
        {
          "output_type": "stream",
          "text": [
            "1160 train examples\n",
            "290 validation examples\n",
            "1459 test examples\n"
          ],
          "name": "stdout"
        }
      ]
    },
    {
      "cell_type": "code",
      "metadata": {
        "id": "RAx-QLHXLTQD",
        "colab_type": "code",
        "colab": {}
      },
      "source": [
        "# numeric columns fillna, to avoid loss nan during NN training\n",
        "\n",
        "for column in numericColumns:\n",
        "  df_train[column].fillna(df_train[column].median(), inplace = True)\n",
        "  df_validation[column].fillna(df_validation[column].median(), inplace = True)\n",
        "  df_test[column].fillna(df_test[column].median(), inplace = True)"
      ],
      "execution_count": 0,
      "outputs": []
    },
    {
      "cell_type": "code",
      "metadata": {
        "id": "hK9A_8m__tau",
        "colab_type": "code",
        "colab": {}
      },
      "source": [
        "# standardscale the input data\n",
        "\n",
        "scaler = StandardScaler()\n",
        "df_train[numericColumns] = scaler.fit_transform(df_train[numericColumns])\n",
        "df_validation[numericColumns] = scaler.transform(df_validation[numericColumns])\n",
        "df_test[numericColumns] = scaler.transform(df_test[numericColumns])"
      ],
      "execution_count": 0,
      "outputs": []
    },
    {
      "cell_type": "markdown",
      "metadata": {
        "id": "cFtfZZeTXp4P",
        "colab_type": "text"
      },
      "source": [
        "# build tf.dataset\n",
        "\n",
        "tf.dataset defines how data flow into NN"
      ]
    },
    {
      "cell_type": "code",
      "metadata": {
        "id": "ZGmNyqR0XhaS",
        "colab_type": "code",
        "colab": {}
      },
      "source": [
        "# function to build tf.dataset from pandas dataframes\n",
        "# three seperate tensorflow.dataset need to be built for train,validation,and testing\n",
        "# tf.dataset has repeat(equivalent to epoch) and batch_size\n",
        "# steps = repeat * (total sample number/batch_size)\n",
        "\n",
        "def df_to_dataset(dataframe, shuffle=True, batch_size=32):\n",
        "  dataframe = dataframe.copy()\n",
        "  labels = dataframe.pop('SalePrice')\n",
        "  ds = tf.data.Dataset.from_tensor_slices((dict(dataframe), labels))\n",
        "  if shuffle:\n",
        "    ds = ds.shuffle(buffer_size=len(dataframe))\n",
        "  ds = ds.batch(batch_size)\n",
        "  return ds\n",
        "\n",
        "batch_size = 32\n",
        "train_ds = df_to_dataset(df_train, batch_size=batch_size)\n",
        "val_ds = df_to_dataset(df_validation, shuffle=False, batch_size=batch_size)\n",
        "df_test['SalePrice'] = 0\n",
        "test_ds = df_to_dataset(df_test, shuffle=False, batch_size=batch_size)"
      ],
      "execution_count": 0,
      "outputs": []
    },
    {
      "cell_type": "markdown",
      "metadata": {
        "id": "xy02de2AgKVO",
        "colab_type": "text"
      },
      "source": [
        "# define feature_column and feature_layer\n",
        "\n",
        "feature_column defines how NN interprets the raw input, whether numeric or categorical\n",
        "\n",
        "feature_layer serves as the first layer of model input"
      ]
    },
    {
      "cell_type": "code",
      "metadata": {
        "id": "bfey9HwzXw5k",
        "colab_type": "code",
        "colab": {}
      },
      "source": [
        "feature_columns = []\n",
        "\n",
        "for col in numericColumns:\n",
        "  col = feature_column.numeric_column(col)\n",
        "  feature_columns.append(col)\n",
        "\n",
        "for col in categoricalColumns:\n",
        "  col = feature_column.indicator_column(feature_column.categorical_column_with_vocabulary_list(col,df_train[col].unique()))\n",
        "  feature_columns.append(col)\n",
        "\n",
        "feature_layer = tf.keras.layers.DenseFeatures(feature_columns)"
      ],
      "execution_count": 0,
      "outputs": []
    },
    {
      "cell_type": "markdown",
      "metadata": {
        "id": "ydiV6nkyl09e",
        "colab_type": "text"
      },
      "source": [
        "# keras sequential model"
      ]
    },
    {
      "cell_type": "code",
      "metadata": {
        "id": "krQHGXuYoTp7",
        "colab_type": "code",
        "colab": {}
      },
      "source": [
        "initial_learning_rate = 0.001\n",
        "lr_schedule = tf.keras.optimizers.schedules.ExponentialDecay(\n",
        "    initial_learning_rate,\n",
        "    decay_steps=10000,\n",
        "    decay_rate=0.96,\n",
        "    staircase=True)"
      ],
      "execution_count": 0,
      "outputs": []
    },
    {
      "cell_type": "code",
      "metadata": {
        "id": "l442rrPuihk2",
        "colab_type": "code",
        "colab": {}
      },
      "source": [
        "from tensorflow.keras import optimizers\n",
        "\n",
        "def build_model():\n",
        "  model = keras.Sequential([\n",
        "    feature_layer,\n",
        "    layers.Dense(10, activation='relu'),\n",
        "    layers.Dense(10, activation='relu'),\n",
        "    layers.Dense(1)\n",
        "  ])\n",
        "\n",
        "  optimizer = tf.optimizers.RMSprop(learning_rate=lr_schedule)\n",
        "\n",
        "  model.compile(loss='mse',\n",
        "                optimizer=optimizer,\n",
        "                metrics=['mse'])\n",
        "  return model\n",
        "\n",
        "model = build_model()"
      ],
      "execution_count": 0,
      "outputs": []
    },
    {
      "cell_type": "code",
      "metadata": {
        "id": "bmFIZJ_Xl3g6",
        "colab_type": "code",
        "outputId": "307b08dc-e26e-4f03-eac7-b32b2e538dad",
        "colab": {
          "base_uri": "https://localhost:8080/",
          "height": 1000
        }
      },
      "source": [
        "# train the model\n",
        "history = model.fit(train_ds,\n",
        "          validation_data=val_ds,\n",
        "          epochs=30)"
      ],
      "execution_count": 16,
      "outputs": [
        {
          "output_type": "stream",
          "text": [
            "WARNING:tensorflow:From /usr/local/lib/python3.6/dist-packages/tensorflow_core/python/feature_column/feature_column_v2.py:4267: IndicatorColumn._variable_shape (from tensorflow.python.feature_column.feature_column_v2) is deprecated and will be removed in a future version.\n",
            "Instructions for updating:\n",
            "The old _FeatureColumn APIs are being deprecated. Please use the new FeatureColumn APIs instead.\n",
            "WARNING:tensorflow:From /usr/local/lib/python3.6/dist-packages/tensorflow_core/python/feature_column/feature_column_v2.py:4322: VocabularyListCategoricalColumn._num_buckets (from tensorflow.python.feature_column.feature_column_v2) is deprecated and will be removed in a future version.\n",
            "Instructions for updating:\n",
            "The old _FeatureColumn APIs are being deprecated. Please use the new FeatureColumn APIs instead.\n",
            "Train for 37 steps, validate for 10 steps\n",
            "Epoch 1/30\n",
            "37/37 [==============================] - 3s 82ms/step - loss: 138.8817 - mse: 139.1134 - val_loss: 124.1256 - val_mse: 123.4382\n",
            "Epoch 2/30\n",
            "37/37 [==============================] - 0s 9ms/step - loss: 106.0034 - mse: 106.3943 - val_loss: 87.8132 - val_mse: 87.9889\n",
            "Epoch 3/30\n",
            "37/37 [==============================] - 0s 10ms/step - loss: 65.0454 - mse: 65.5428 - val_loss: 42.1918 - val_mse: 42.9426\n",
            "Epoch 4/30\n",
            "37/37 [==============================] - 0s 10ms/step - loss: 24.3923 - mse: 24.6360 - val_loss: 8.7468 - val_mse: 9.2461\n",
            "Epoch 5/30\n",
            "37/37 [==============================] - 0s 10ms/step - loss: 3.7073 - mse: 3.6571 - val_loss: 0.9555 - val_mse: 1.0031\n",
            "Epoch 6/30\n",
            "37/37 [==============================] - 0s 9ms/step - loss: 0.8830 - mse: 0.8849 - val_loss: 0.4368 - val_mse: 0.4648\n",
            "Epoch 7/30\n",
            "37/37 [==============================] - 0s 10ms/step - loss: 0.5154 - mse: 0.5184 - val_loss: 0.2605 - val_mse: 0.2873\n",
            "Epoch 8/30\n",
            "37/37 [==============================] - 0s 10ms/step - loss: 0.3378 - mse: 0.3413 - val_loss: 0.1647 - val_mse: 0.1799\n",
            "Epoch 9/30\n",
            "37/37 [==============================] - 0s 11ms/step - loss: 0.2440 - mse: 0.2466 - val_loss: 0.1392 - val_mse: 0.1481\n",
            "Epoch 10/30\n",
            "37/37 [==============================] - 0s 10ms/step - loss: 0.1820 - mse: 0.1840 - val_loss: 0.0928 - val_mse: 0.1006\n",
            "Epoch 11/30\n",
            "37/37 [==============================] - 0s 10ms/step - loss: 0.1390 - mse: 0.1412 - val_loss: 0.0679 - val_mse: 0.0738\n",
            "Epoch 12/30\n",
            "37/37 [==============================] - 0s 10ms/step - loss: 0.1091 - mse: 0.1088 - val_loss: 0.1103 - val_mse: 0.1187\n",
            "Epoch 13/30\n",
            "37/37 [==============================] - 0s 11ms/step - loss: 0.0804 - mse: 0.0814 - val_loss: 0.0470 - val_mse: 0.0513\n",
            "Epoch 14/30\n",
            "37/37 [==============================] - 0s 10ms/step - loss: 0.0637 - mse: 0.0644 - val_loss: 0.0439 - val_mse: 0.0477\n",
            "Epoch 15/30\n",
            "37/37 [==============================] - 0s 11ms/step - loss: 0.0532 - mse: 0.0540 - val_loss: 0.0435 - val_mse: 0.0475\n",
            "Epoch 16/30\n",
            "37/37 [==============================] - 0s 11ms/step - loss: 0.0441 - mse: 0.0436 - val_loss: 0.0460 - val_mse: 0.0496\n",
            "Epoch 17/30\n",
            "37/37 [==============================] - 0s 11ms/step - loss: 0.0383 - mse: 0.0390 - val_loss: 0.0439 - val_mse: 0.0470\n",
            "Epoch 18/30\n",
            "37/37 [==============================] - 0s 11ms/step - loss: 0.0312 - mse: 0.0308 - val_loss: 0.0511 - val_mse: 0.0557\n",
            "Epoch 19/30\n",
            "37/37 [==============================] - 0s 11ms/step - loss: 0.0278 - mse: 0.0283 - val_loss: 0.0331 - val_mse: 0.0360\n",
            "Epoch 20/30\n",
            "37/37 [==============================] - 0s 12ms/step - loss: 0.0261 - mse: 0.0264 - val_loss: 0.0331 - val_mse: 0.0363\n",
            "Epoch 21/30\n",
            "37/37 [==============================] - 0s 11ms/step - loss: 0.0232 - mse: 0.0233 - val_loss: 0.0431 - val_mse: 0.0442\n",
            "Epoch 22/30\n",
            "37/37 [==============================] - 0s 11ms/step - loss: 0.0239 - mse: 0.0240 - val_loss: 0.0312 - val_mse: 0.0332\n",
            "Epoch 23/30\n",
            "37/37 [==============================] - 0s 11ms/step - loss: 0.0201 - mse: 0.0197 - val_loss: 0.0483 - val_mse: 0.0518\n",
            "Epoch 24/30\n",
            "37/37 [==============================] - 0s 11ms/step - loss: 0.0189 - mse: 0.0191 - val_loss: 0.0378 - val_mse: 0.0397\n",
            "Epoch 25/30\n",
            "37/37 [==============================] - 0s 11ms/step - loss: 0.0200 - mse: 0.0201 - val_loss: 0.0309 - val_mse: 0.0330\n",
            "Epoch 26/30\n",
            "37/37 [==============================] - 0s 11ms/step - loss: 0.0193 - mse: 0.0191 - val_loss: 0.0549 - val_mse: 0.0533\n",
            "Epoch 27/30\n",
            "37/37 [==============================] - 0s 12ms/step - loss: 0.0181 - mse: 0.0181 - val_loss: 0.0290 - val_mse: 0.0317\n",
            "Epoch 28/30\n",
            "37/37 [==============================] - 0s 12ms/step - loss: 0.0166 - mse: 0.0166 - val_loss: 0.0336 - val_mse: 0.0369\n",
            "Epoch 29/30\n",
            "37/37 [==============================] - 0s 11ms/step - loss: 0.0176 - mse: 0.0175 - val_loss: 0.0295 - val_mse: 0.0322\n",
            "Epoch 30/30\n",
            "37/37 [==============================] - 0s 11ms/step - loss: 0.0168 - mse: 0.0168 - val_loss: 0.0266 - val_mse: 0.0291\n"
          ],
          "name": "stdout"
        }
      ]
    },
    {
      "cell_type": "code",
      "metadata": {
        "id": "GPLFhu3q4rv1",
        "colab_type": "code",
        "outputId": "e354d6d5-8178-4c5e-d6fa-44ff663e071b",
        "colab": {
          "base_uri": "https://localhost:8080/",
          "height": 35
        }
      },
      "source": [
        "np.sqrt(0.0456)"
      ],
      "execution_count": 17,
      "outputs": [
        {
          "output_type": "execute_result",
          "data": {
            "text/plain": [
              "0.21354156504062624"
            ]
          },
          "metadata": {
            "tags": []
          },
          "execution_count": 17
        }
      ]
    },
    {
      "cell_type": "code",
      "metadata": {
        "id": "lruFaOEWmVFQ",
        "colab_type": "code",
        "outputId": "e191f3ab-d2b1-4d75-88e4-a2d5a68b7f74",
        "colab": {
          "base_uri": "https://localhost:8080/",
          "height": 202
        }
      },
      "source": [
        "hist = pd.DataFrame(history.history)\n",
        "hist['epoch'] = history.epoch\n",
        "hist.tail()"
      ],
      "execution_count": 18,
      "outputs": [
        {
          "output_type": "execute_result",
          "data": {
            "text/html": [
              "<div>\n",
              "<style scoped>\n",
              "    .dataframe tbody tr th:only-of-type {\n",
              "        vertical-align: middle;\n",
              "    }\n",
              "\n",
              "    .dataframe tbody tr th {\n",
              "        vertical-align: top;\n",
              "    }\n",
              "\n",
              "    .dataframe thead th {\n",
              "        text-align: right;\n",
              "    }\n",
              "</style>\n",
              "<table border=\"1\" class=\"dataframe\">\n",
              "  <thead>\n",
              "    <tr style=\"text-align: right;\">\n",
              "      <th></th>\n",
              "      <th>loss</th>\n",
              "      <th>mse</th>\n",
              "      <th>val_loss</th>\n",
              "      <th>val_mse</th>\n",
              "      <th>epoch</th>\n",
              "    </tr>\n",
              "  </thead>\n",
              "  <tbody>\n",
              "    <tr>\n",
              "      <th>25</th>\n",
              "      <td>0.019071</td>\n",
              "      <td>0.019071</td>\n",
              "      <td>0.054869</td>\n",
              "      <td>0.053275</td>\n",
              "      <td>25</td>\n",
              "    </tr>\n",
              "    <tr>\n",
              "      <th>26</th>\n",
              "      <td>0.018134</td>\n",
              "      <td>0.018134</td>\n",
              "      <td>0.029002</td>\n",
              "      <td>0.031673</td>\n",
              "      <td>26</td>\n",
              "    </tr>\n",
              "    <tr>\n",
              "      <th>27</th>\n",
              "      <td>0.016614</td>\n",
              "      <td>0.016614</td>\n",
              "      <td>0.033551</td>\n",
              "      <td>0.036931</td>\n",
              "      <td>27</td>\n",
              "    </tr>\n",
              "    <tr>\n",
              "      <th>28</th>\n",
              "      <td>0.017529</td>\n",
              "      <td>0.017529</td>\n",
              "      <td>0.029477</td>\n",
              "      <td>0.032191</td>\n",
              "      <td>28</td>\n",
              "    </tr>\n",
              "    <tr>\n",
              "      <th>29</th>\n",
              "      <td>0.016766</td>\n",
              "      <td>0.016766</td>\n",
              "      <td>0.026600</td>\n",
              "      <td>0.029105</td>\n",
              "      <td>29</td>\n",
              "    </tr>\n",
              "  </tbody>\n",
              "</table>\n",
              "</div>"
            ],
            "text/plain": [
              "        loss       mse  val_loss   val_mse  epoch\n",
              "25  0.019071  0.019071  0.054869  0.053275     25\n",
              "26  0.018134  0.018134  0.029002  0.031673     26\n",
              "27  0.016614  0.016614  0.033551  0.036931     27\n",
              "28  0.017529  0.017529  0.029477  0.032191     28\n",
              "29  0.016766  0.016766  0.026600  0.029105     29"
            ]
          },
          "metadata": {
            "tags": []
          },
          "execution_count": 18
        }
      ]
    },
    {
      "cell_type": "code",
      "metadata": {
        "id": "r7xNle98rZqN",
        "colab_type": "code",
        "outputId": "bd64432e-7575-49fb-c5dd-d8f35b560754",
        "colab": {
          "base_uri": "https://localhost:8080/",
          "height": 279
        }
      },
      "source": [
        "def plot_history(history):\n",
        "  hist = pd.DataFrame(history.history)\n",
        "  hist['epoch'] = history.epoch\n",
        "\n",
        "  plt.figure()\n",
        "  plt.xlabel('Epoch')\n",
        "  plt.ylabel('Mean Squared Error')\n",
        "  plt.plot(hist['epoch'], hist['mse'],\n",
        "           label='Train Error')\n",
        "  plt.plot(hist['epoch'], hist['val_mse'],\n",
        "           label = 'Val Error')\n",
        "  plt.legend()\n",
        "  plt.show()\n",
        "\n",
        "plot_history(history)"
      ],
      "execution_count": 19,
      "outputs": [
        {
          "output_type": "display_data",
          "data": {
            "image/png": "[encoded data removed]",
            "text/plain": [
              "<Figure size 432x288 with 1 Axes>"
            ]
          },
          "metadata": {
            "tags": []
          }
        }
      ]
    },
    {
      "cell_type": "markdown",
      "metadata": {
        "id": "g11XYvLrH0Ig",
        "colab_type": "text"
      },
      "source": [
        "# generate prediction output"
      ]
    },
    {
      "cell_type": "code",
      "metadata": {
        "id": "kUdsHIdGCNlI",
        "colab_type": "code",
        "colab": {}
      },
      "source": [
        "submission = np.expm1(model.predict(test_ds).flatten())\n",
        "\n",
        "df = pd.DataFrame(columns = ['Id', 'SalePrice'])\n",
        "df['Id'] = df_test['Id']\n",
        "df['SalePrice'] = submission\n",
        "\n",
        "df.to_csv(r\"submission.csv\")"
      ],
      "execution_count": 0,
      "outputs": []
    },
    {
      "cell_type": "code",
      "metadata": {
        "id": "cXwknmFoCNZq",
        "colab_type": "code",
        "colab": {}
      },
      "source": [
        ""
      ],
      "execution_count": 0,
      "outputs": []
    }
  ]
}