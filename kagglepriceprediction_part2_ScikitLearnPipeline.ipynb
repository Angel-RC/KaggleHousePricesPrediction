{
  "nbformat": 4,
  "nbformat_minor": 0,
  "metadata": {
    "colab": {
      "name": "kagglepriceprediction_part2_ScikitLearnPipeline.ipynb",
      "provenance": [],
      "collapsed_sections": [],
      "authorship_tag": "ABX9TyN6A3hBdNg4ccq+hIEoSEvc",
      "include_colab_link": true
    },
    "kernelspec": {
      "name": "python3",
      "display_name": "Python 3"
    }
  },
  "cells": [
    {
      "cell_type": "markdown",
      "metadata": {
        "id": "view-in-github",
        "colab_type": "text"
      },
      "source": [
        "<a href=\"https://colab.research.google.com/github/jhwang1992/KaggleHousePricesPrediction/blob/master/kagglepriceprediction_part2_ScikitLearnPipeline.ipynb\" target=\"_parent\"><img src=\"https://colab.research.google.com/assets/colab-badge.svg\" alt=\"Open In Colab\"/></a>"
      ]
    },
    {
      "cell_type": "markdown",
      "metadata": {
        "id": "lmevQKNoUweh",
        "colab_type": "text"
      },
      "source": [
        "# pickle load data"
      ]
    },
    {
      "cell_type": "code",
      "metadata": {
        "id": "LStTD7ZoipzG",
        "colab_type": "code",
        "outputId": "d43e16cb-25b5-4a30-d1c7-923201731cde",
        "colab": {
          "resources": {
            "http://localhost:8080/nbextensions/google.colab/files.js": {
              "data": "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",
              "ok": true,
              "headers": [
                [
                  "content-type",
                  "application/javascript"
                ]
              ],
              "status": 200,
              "status_text": ""
            }
          },
          "base_uri": "https://localhost:8080/",
          "height": 110
        }
      },
      "source": [
        "from google.colab import files\n",
        "uploaded = files.upload()"
      ],
      "execution_count": 1,
      "outputs": [
        {
          "output_type": "display_data",
          "data": {
            "text/html": [
              "\n",
              "     <input type=\"file\" id=\"files-bf2a5e51-fee9-4b38-8066-6c7a986e01f9\" name=\"files[]\" multiple disabled />\n",
              "     <output id=\"result-bf2a5e51-fee9-4b38-8066-6c7a986e01f9\">\n",
              "      Upload widget is only available when the cell has been executed in the\n",
              "      current browser session. Please rerun this cell to enable.\n",
              "      </output>\n",
              "      <script src=\"/nbextensions/google.colab/files.js\"></script> "
            ],
            "text/plain": [
              "<IPython.core.display.HTML object>"
            ]
          },
          "metadata": {
            "tags": []
          }
        },
        {
          "output_type": "stream",
          "text": [
            "Saving df_train.pkl to df_train.pkl\n",
            "Saving df_test.pkl to df_test.pkl\n"
          ],
          "name": "stdout"
        }
      ]
    },
    {
      "cell_type": "code",
      "metadata": {
        "id": "iznpvidvUYOE",
        "colab_type": "code",
        "colab": {}
      },
      "source": [
        "import pandas as pd\n",
        "import numpy as np\n",
        "import matplotlib.pyplot as plt\n",
        "%matplotlib inline\n",
        "import seaborn as sns\n",
        "\n",
        "import pickle\n",
        "\n",
        "import warnings as wrn\n",
        "wrn.filterwarnings('ignore', category = DeprecationWarning) \n",
        "wrn.filterwarnings('ignore', category = FutureWarning) \n",
        "wrn.filterwarnings('ignore', category = UserWarning)\n",
        "\n",
        "from sklearn.linear_model import ElasticNet, Lasso, Ridge\n",
        "from sklearn.svm import SVR\n",
        "from sklearn.ensemble import RandomForestRegressor, GradientBoostingRegressor\n",
        "from sklearn.kernel_ridge import KernelRidge\n",
        "import xgboost as xgb\n",
        "from xgboost import XGBRegressor\n",
        "import lightgbm as lgb\n",
        "from lightgbm import LGBMRegressor\n",
        "\n",
        "from sklearn.impute import SimpleImputer\n",
        "from sklearn.pipeline import Pipeline\n",
        "from sklearn.model_selection import GridSearchCV\n",
        "from sklearn.compose import ColumnTransformer\n",
        "from sklearn.preprocessing import StandardScaler, OneHotEncoder\n",
        "from sklearn.metrics import make_scorer, mean_squared_error"
      ],
      "execution_count": 0,
      "outputs": []
    },
    {
      "cell_type": "code",
      "metadata": {
        "id": "zOsz7Y6sUm8_",
        "colab_type": "code",
        "colab": {}
      },
      "source": [
        "with open('df_train.pkl', 'rb') as f:\n",
        "    df_train = pickle.load(f)\n",
        "\n",
        "with open('df_test.pkl', 'rb') as f:\n",
        "    df_test = pickle.load(f)"
      ],
      "execution_count": 0,
      "outputs": []
    },
    {
      "cell_type": "code",
      "metadata": {
        "id": "muriT9xWUpVW",
        "colab_type": "code",
        "outputId": "aba94675-378e-4725-a80e-6c99d55338c2",
        "colab": {
          "base_uri": "https://localhost:8080/",
          "height": 52
        }
      },
      "source": [
        "print('df_train shape: ', df_train.shape)\n",
        "print('df_test shape: ', df_test.shape)"
      ],
      "execution_count": 4,
      "outputs": [
        {
          "output_type": "stream",
          "text": [
            "df_train shape:  (1450, 76)\n",
            "df_test shape:  (1459, 75)\n"
          ],
          "name": "stdout"
        }
      ]
    },
    {
      "cell_type": "markdown",
      "metadata": {
        "id": "QYWFWfa_x30K",
        "colab_type": "text"
      },
      "source": [
        "# identify numericColumns and categoricalColumns"
      ]
    },
    {
      "cell_type": "code",
      "metadata": {
        "id": "By6bAmVwZBc0",
        "colab_type": "code",
        "outputId": "f29e5893-52c7-4bec-9af3-b611e87cd001",
        "colab": {
          "base_uri": "https://localhost:8080/",
          "height": 89
        }
      },
      "source": [
        "numericColumns = []\n",
        "categoricalColumns = []\n",
        "\n",
        "for column in df_train.columns:\n",
        "  if df_train[column].dtypes==int or df_train[column].dtypes==float:\n",
        "    numericColumns.append(column)\n",
        "  else:\n",
        "    categoricalColumns.append(column)\n",
        "\n",
        "numericColumns.remove('Id')\n",
        "numericColumns.remove('SalePrice')\n",
        "\n",
        "print( len(numericColumns), 'numeric columns: ', numericColumns)\n",
        "print( len(categoricalColumns), 'categorical columns: ', categoricalColumns)\n",
        "print( 'ID and SalePrice are seperated')"
      ],
      "execution_count": 5,
      "outputs": [
        {
          "output_type": "stream",
          "text": [
            "54 numeric columns:  ['MSSubClass', 'LotFrontage', 'LotArea', 'LotShape', 'LandContour', 'Utilities', 'LandSlope', 'OverallQual', 'OverallCond', 'YearBuilt', 'YearRemodAdd', 'MasVnrArea', 'ExterQual', 'ExterCond', 'BsmtQual', 'BsmtExposure', 'BsmtFinType1', 'BsmtFinSF1', 'BsmtFinType2', 'BsmtFinSF2', 'BsmtUnfSF', 'TotalBsmtSF', 'HeatingQC', 'Electrical', '1stFlrSF', '2ndFlrSF', 'LowQualFinSF', 'GrLivArea', 'BsmtFullBath', 'BsmtHalfBath', 'FullBath', 'HalfBath', 'BedroomAbvGr', 'KitchenAbvGr', 'KitchenQual', 'TotRmsAbvGrd', 'Functional', 'Fireplaces', 'GarageYrBlt', 'GarageFinish', 'GarageCars', 'GarageArea', 'GarageQual', 'GarageCond', 'PavedDrive', 'WoodDeckSF', 'OpenPorchSF', 'EnclosedPorch', '3SsnPorch', 'ScreenPorch', 'PoolArea', 'MiscVal', 'MoSold', 'YrSold']\n",
            "20 categorical columns:  ['MSZoning', 'Street', 'LotConfig', 'Neighborhood', 'Condition1', 'Condition2', 'BldgType', 'HouseStyle', 'RoofStyle', 'RoofMatl', 'Exterior1st', 'Exterior2nd', 'MasVnrType', 'Foundation', 'BsmtCond', 'Heating', 'CentralAir', 'GarageType', 'SaleType', 'SaleCondition']\n",
            "ID and SalePrice are seperated\n"
          ],
          "name": "stdout"
        }
      ]
    },
    {
      "cell_type": "markdown",
      "metadata": {
        "id": "5DhoHRmFVZj4",
        "colab_type": "text"
      },
      "source": [
        "# Ridge pipeline and GridSearchCV"
      ]
    },
    {
      "cell_type": "code",
      "metadata": {
        "id": "mLpebDRnVNpw",
        "colab_type": "code",
        "outputId": "821f0db1-47b4-4d4f-9863-a992162c33c8",
        "colab": {
          "base_uri": "https://localhost:8080/",
          "height": 35
        }
      },
      "source": [
        "# build pipeline\n",
        "# first implement different columntransformer for numeric and categorical columns\n",
        "# second pass the columntransformer results to Ridge regressor\n",
        "\n",
        "numeric_features = numericColumns\n",
        "numeric_transformer = Pipeline(steps=[\n",
        "                                      ('imputer', SimpleImputer(strategy='mean')),\n",
        "                                      ('scaler', StandardScaler())])\n",
        "\n",
        "\n",
        "categorical_features = categoricalColumns\n",
        "categorical_transformer = Pipeline(steps=[\n",
        "                                      ('imputer', SimpleImputer(strategy='constant', fill_value='missing')),\n",
        "                                      ('onehot', OneHotEncoder(handle_unknown='ignore'))])\n",
        "\n",
        "\n",
        "preprocessor = ColumnTransformer(\n",
        "    transformers=[\n",
        "                  ('num', numeric_transformer, numeric_features),\n",
        "                  ('cat', categorical_transformer, categorical_features)])\n",
        "\n",
        "\n",
        "ridge_pipeline = Pipeline(steps=[\n",
        "                                 ('preprocessor', preprocessor),\n",
        "                                 ('regressor', Ridge())])\n",
        "\n",
        "\n",
        "ridge_param_grid = {\n",
        "    'preprocessor__num__imputer__strategy': ['mean', 'median'],\n",
        "    'regressor__alpha': [1,5,10,20]\n",
        "}\n",
        "\n",
        "\n",
        "# define the scoring parameter to be passed into GridSearchCV\n",
        "# 'neg_mean_squared_error', metrics.mean_squared_error is used here\n",
        "# make_scorer and set greater_is_better to False to make sure GridSearchCV optimizes the hyperparameters correctly\n",
        "scoring_metrics = make_scorer(mean_squared_error, greater_is_better=False)\n",
        "\n",
        "\n",
        "ridge_grid_search = GridSearchCV(ridge_pipeline, ridge_param_grid, scoring = scoring_metrics, cv = 5)\n",
        "ridge_grid_search.fit(df_train[numericColumns+categoricalColumns], df_train['SalePrice'])\n",
        "\n",
        "\n",
        "print(f\"best score is {ridge_grid_search.best_score_}, best parameter from grid search is {ridge_grid_search.best_params_}\")"
      ],
      "execution_count": 6,
      "outputs": [
        {
          "output_type": "stream",
          "text": [
            "best score is -0.012890171962691654, best parameter from grid search is {'preprocessor__num__imputer__strategy': 'median', 'regressor__alpha': 10}\n"
          ],
          "name": "stdout"
        }
      ]
    },
    {
      "cell_type": "code",
      "metadata": {
        "id": "6oikRwToApJ9",
        "colab_type": "code",
        "outputId": "8966c7b3-913a-4b8e-a40f-fce8454387cf",
        "colab": {
          "base_uri": "https://localhost:8080/",
          "height": 35
        }
      },
      "source": [
        "np.sqrt(ridge_grid_search.best_score_ * -1)"
      ],
      "execution_count": 7,
      "outputs": [
        {
          "output_type": "execute_result",
          "data": {
            "text/plain": [
              "0.11353489315048328"
            ]
          },
          "metadata": {
            "tags": []
          },
          "execution_count": 7
        }
      ]
    },
    {
      "cell_type": "markdown",
      "metadata": {
        "id": "npJ1TjinD9Sq",
        "colab_type": "text"
      },
      "source": [
        "# Lasso pipeline and GridSearchCV"
      ]
    },
    {
      "cell_type": "code",
      "metadata": {
        "id": "QhcXfoNVDE35",
        "colab_type": "code",
        "outputId": "522d79c7-2060-4048-ac01-9ea0e16d12d4",
        "colab": {
          "base_uri": "https://localhost:8080/",
          "height": 35
        }
      },
      "source": [
        "numeric_features = numericColumns\n",
        "numeric_transformer = Pipeline(steps=[\n",
        "    ('imputer', SimpleImputer(strategy='mean')),\n",
        "    ('scaler', StandardScaler())])\n",
        "\n",
        "\n",
        "categorical_features = categoricalColumns\n",
        "categorical_transformer = Pipeline(steps=[\n",
        "    ('imputer', SimpleImputer(strategy='constant', fill_value='missing')),\n",
        "    ('onehot', OneHotEncoder(handle_unknown='ignore'))])\n",
        "\n",
        "\n",
        "preprocessor = ColumnTransformer(\n",
        "    transformers=[\n",
        "        ('num', numeric_transformer, numeric_features),\n",
        "        ('cat', categorical_transformer, categorical_features)])\n",
        "\n",
        "\n",
        "lasso_pipeline = Pipeline(steps=[('preprocessor', preprocessor),\n",
        "                                 ('regressor', Lasso())])\n",
        "\n",
        "\n",
        "lasso_param_grid = {\n",
        "    'preprocessor__num__imputer__strategy': ['mean', 'median'],\n",
        "    'regressor__alpha': [0.0001, 0.0005, 0.001, 0.005, 0.01, 0.05, 0.1, 0.5, 1, 5, 10, 100]\n",
        "}\n",
        "\n",
        "\n",
        "# 'neg_mean_squared_error', metrics.mean_squared_error is used here\n",
        "scoring_metrics = make_scorer(mean_squared_error, greater_is_better=False)\n",
        "\n",
        "\n",
        "lasso_grid_search = GridSearchCV(lasso_pipeline, lasso_param_grid, scoring = scoring_metrics, cv = 5)\n",
        "lasso_grid_search.fit(df_train[numericColumns+categoricalColumns], df_train['SalePrice'])\n",
        "\n",
        "\n",
        "print(f\"best score is {lasso_grid_search.best_score_}, best parameter from grid search is {lasso_grid_search.best_params_}\")"
      ],
      "execution_count": 8,
      "outputs": [
        {
          "output_type": "stream",
          "text": [
            "best score is -0.012361374369539848, best parameter from grid search is {'preprocessor__num__imputer__strategy': 'median', 'regressor__alpha': 0.0005}\n"
          ],
          "name": "stdout"
        }
      ]
    },
    {
      "cell_type": "code",
      "metadata": {
        "id": "Tc0Efh2oDEyR",
        "colab_type": "code",
        "outputId": "81c496fd-fc92-44d3-f203-c8b5a70c4ef1",
        "colab": {
          "base_uri": "https://localhost:8080/",
          "height": 35
        }
      },
      "source": [
        "np.sqrt(lasso_grid_search.best_score_ * -1)"
      ],
      "execution_count": 9,
      "outputs": [
        {
          "output_type": "execute_result",
          "data": {
            "text/plain": [
              "0.11118171778462432"
            ]
          },
          "metadata": {
            "tags": []
          },
          "execution_count": 9
        }
      ]
    },
    {
      "cell_type": "markdown",
      "metadata": {
        "id": "4r-VHzRKFM9y",
        "colab_type": "text"
      },
      "source": [
        "# ElasticNet pipeline and GridSearchCV"
      ]
    },
    {
      "cell_type": "code",
      "metadata": {
        "id": "oTux2Yq5DEpT",
        "colab_type": "code",
        "outputId": "dd096f83-7207-4a97-e5b8-ff58d2cd4aa9",
        "colab": {
          "base_uri": "https://localhost:8080/",
          "height": 35
        }
      },
      "source": [
        "numeric_features = numericColumns\n",
        "numeric_transformer = Pipeline(steps=[\n",
        "    ('imputer', SimpleImputer(strategy='mean')),\n",
        "    ('scaler', StandardScaler())])\n",
        "\n",
        "\n",
        "categorical_features = categoricalColumns\n",
        "categorical_transformer = Pipeline(steps=[\n",
        "    ('imputer', SimpleImputer(strategy='constant', fill_value='missing')),\n",
        "    ('onehot', OneHotEncoder(handle_unknown='ignore'))])\n",
        "\n",
        "\n",
        "preprocessor = ColumnTransformer(\n",
        "    transformers=[\n",
        "        ('num', numeric_transformer, numeric_features),\n",
        "        ('cat', categorical_transformer, categorical_features)])\n",
        "\n",
        "\n",
        "ElasticNet_pipeline = Pipeline(steps=[('preprocessor', preprocessor),\n",
        "                                 ('regressor', ElasticNet())])\n",
        "\n",
        "\n",
        "ElasticNet_param_grid = {\n",
        "    'regressor__alpha': [0.0001, 0.0005, 0.001, 0.005, 0.01, 0.05, 0.1, 0.5, 1, 5, 10,100],\n",
        "    'regressor__l1_ratio':[0.5,0.6,0.7,0.8,0.9]\n",
        "}\n",
        "\n",
        "\n",
        "# 'neg_mean_squared_error', metrics.mean_squared_error is used here\n",
        "scoring_metrics = make_scorer(mean_squared_error, greater_is_better=False)\n",
        "\n",
        "\n",
        "ElasticNet_grid_search = GridSearchCV(ElasticNet_pipeline, ElasticNet_param_grid, scoring = scoring_metrics, cv = 5)\n",
        "ElasticNet_grid_search.fit(df_train[numericColumns+categoricalColumns], df_train['SalePrice'])\n",
        "\n",
        "\n",
        "print(f\"best score is {ElasticNet_grid_search.best_score_}, best parameter from grid search is {ElasticNet_grid_search.best_params_}\")"
      ],
      "execution_count": 10,
      "outputs": [
        {
          "output_type": "stream",
          "text": [
            "best score is -0.01237041440688029, best parameter from grid search is {'regressor__alpha': 0.0005, 'regressor__l1_ratio': 0.9}\n"
          ],
          "name": "stdout"
        }
      ]
    },
    {
      "cell_type": "code",
      "metadata": {
        "id": "2bzhTVtiFMm1",
        "colab_type": "code",
        "outputId": "96ce92d3-0f4f-4783-9d16-489fbc7e7b8a",
        "colab": {
          "base_uri": "https://localhost:8080/",
          "height": 35
        }
      },
      "source": [
        "np.sqrt(ElasticNet_grid_search.best_score_ * -1)"
      ],
      "execution_count": 11,
      "outputs": [
        {
          "output_type": "execute_result",
          "data": {
            "text/plain": [
              "0.11122236468840378"
            ]
          },
          "metadata": {
            "tags": []
          },
          "execution_count": 11
        }
      ]
    },
    {
      "cell_type": "markdown",
      "metadata": {
        "id": "KZgJ8cFFfQV0",
        "colab_type": "text"
      },
      "source": [
        "# KRR pipeline and GridSearchCV"
      ]
    },
    {
      "cell_type": "code",
      "metadata": {
        "id": "E9-Dt6k3FMgq",
        "colab_type": "code",
        "outputId": "f6dbbd7a-925c-4959-bcee-9dad25f3f10f",
        "colab": {
          "base_uri": "https://localhost:8080/",
          "height": 35
        }
      },
      "source": [
        "numeric_features = numericColumns\n",
        "numeric_transformer = Pipeline(steps=[\n",
        "    ('imputer', SimpleImputer(strategy='mean')),\n",
        "    ('scaler', StandardScaler())])\n",
        "\n",
        "\n",
        "categorical_features = categoricalColumns\n",
        "categorical_transformer = Pipeline(steps=[\n",
        "    ('imputer', SimpleImputer(strategy='constant', fill_value='missing')),\n",
        "    ('onehot', OneHotEncoder(handle_unknown='ignore'))])\n",
        "\n",
        "\n",
        "preprocessor = ColumnTransformer(\n",
        "    transformers=[\n",
        "        ('num', numeric_transformer, numeric_features),\n",
        "        ('cat', categorical_transformer, categorical_features)])\n",
        "\n",
        "\n",
        "KRR_pipeline = Pipeline(steps=[('preprocessor', preprocessor),\n",
        "                                 ('regressor', KernelRidge())])\n",
        "\n",
        "\n",
        "KRR_param_grid = {\n",
        "    'regressor__alpha': [0.0001, 0.0005, 0.001, 0.005, 0.01, 0.05, 0.1, 0.5, 1, 5, 10,100],\n",
        "    'regressor__kernel':['polynomial', 'linear'],\n",
        "    'regressor__degree':[1,2,3]\n",
        "}\n",
        "\n",
        "\n",
        "# 'neg_mean_squared_error', metrics.mean_squared_error is used here\n",
        "scoring_metrics = make_scorer(mean_squared_error, greater_is_better=False)\n",
        "\n",
        "\n",
        "KRR_grid_search = GridSearchCV(KRR_pipeline, KRR_param_grid, scoring = scoring_metrics, cv = 5)\n",
        "KRR_grid_search.fit(df_train[numericColumns+categoricalColumns], df_train['SalePrice'])\n",
        "\n",
        "\n",
        "print(f\"best score is {KRR_grid_search.best_score_}, best parameter from grid search is {KRR_grid_search.best_params_}\")"
      ],
      "execution_count": 12,
      "outputs": [
        {
          "output_type": "stream",
          "text": [
            "best score is -0.012820118676965156, best parameter from grid search is {'regressor__alpha': 0.1, 'regressor__degree': 2, 'regressor__kernel': 'polynomial'}\n"
          ],
          "name": "stdout"
        }
      ]
    },
    {
      "cell_type": "code",
      "metadata": {
        "id": "Z4xOEB2jFMaP",
        "colab_type": "code",
        "outputId": "e9798f45-f9df-4c23-b24c-1ab1d59c3f60",
        "colab": {
          "base_uri": "https://localhost:8080/",
          "height": 35
        }
      },
      "source": [
        "np.sqrt(KRR_grid_search.best_score_ * -1)"
      ],
      "execution_count": 13,
      "outputs": [
        {
          "output_type": "execute_result",
          "data": {
            "text/plain": [
              "0.11322596291030232"
            ]
          },
          "metadata": {
            "tags": []
          },
          "execution_count": 13
        }
      ]
    },
    {
      "cell_type": "markdown",
      "metadata": {
        "id": "4_cPRmNtiFPQ",
        "colab_type": "text"
      },
      "source": [
        "# gradientBoost pipeline and GridSearchCV"
      ]
    },
    {
      "cell_type": "code",
      "metadata": {
        "id": "uegqiVcmfZwq",
        "colab_type": "code",
        "outputId": "32ced22e-0795-4b28-d985-c9fc4b5a3cd8",
        "colab": {
          "base_uri": "https://localhost:8080/",
          "height": 35
        }
      },
      "source": [
        "numeric_features = numericColumns\n",
        "numeric_transformer = Pipeline(steps=[\n",
        "    ('imputer', SimpleImputer(strategy='mean')),\n",
        "    ('scaler', StandardScaler())])\n",
        "\n",
        "\n",
        "categorical_features = categoricalColumns\n",
        "categorical_transformer = Pipeline(steps=[\n",
        "    ('imputer', SimpleImputer(strategy='constant', fill_value='missing')),\n",
        "    ('onehot', OneHotEncoder(handle_unknown='ignore'))])\n",
        "\n",
        "\n",
        "preprocessor = ColumnTransformer(\n",
        "    transformers=[\n",
        "        ('num', numeric_transformer, numeric_features),\n",
        "        ('cat', categorical_transformer, categorical_features)])\n",
        "\n",
        "\n",
        "gradientBoost_pipeline = Pipeline(steps=[('preprocessor', preprocessor),\n",
        "                                         ('regressor', GradientBoostingRegressor(n_estimators=3000,max_features='sqrt',\n",
        "                                                                                 min_samples_leaf=15, min_samples_split=10, \n",
        "                                                                                 loss='huber', random_state =5))])\n",
        "\n",
        "\n",
        "gradientBoost_param_grid = {\n",
        "    'regressor__learning_rate':[0.01, 0.05, 0.1, 0.5],\n",
        "    'regressor__max_depth':[3,4]\n",
        "}\n",
        "\n",
        "\n",
        "# 'neg_mean_squared_error', metrics.mean_squared_error is used here\n",
        "scoring_metrics = make_scorer(mean_squared_error, greater_is_better=False)\n",
        "\n",
        "\n",
        "gradientBoost_grid_search = GridSearchCV(gradientBoost_pipeline, gradientBoost_param_grid, scoring = scoring_metrics, cv = 5)\n",
        "gradientBoost_grid_search.fit(df_train[numericColumns+categoricalColumns], df_train['SalePrice'])\n",
        "\n",
        "\n",
        "print(f\"best score is {gradientBoost_grid_search.best_score_}, best parameter from grid search is {gradientBoost_grid_search.best_params_}\")"
      ],
      "execution_count": 14,
      "outputs": [
        {
          "output_type": "stream",
          "text": [
            "best score is -0.012345541626874207, best parameter from grid search is {'regressor__learning_rate': 0.01, 'regressor__max_depth': 4}\n"
          ],
          "name": "stdout"
        }
      ]
    },
    {
      "cell_type": "code",
      "metadata": {
        "id": "6Wk81ePtfZlP",
        "colab_type": "code",
        "outputId": "b7755b56-d7b4-4271-d6ce-22553dc66ffa",
        "colab": {
          "base_uri": "https://localhost:8080/",
          "height": 35
        }
      },
      "source": [
        "np.sqrt(gradientBoost_grid_search.best_score_ * -1)"
      ],
      "execution_count": 15,
      "outputs": [
        {
          "output_type": "execute_result",
          "data": {
            "text/plain": [
              "0.11111049287476951"
            ]
          },
          "metadata": {
            "tags": []
          },
          "execution_count": 15
        }
      ]
    },
    {
      "cell_type": "markdown",
      "metadata": {
        "id": "TzfbPtf8jDUb",
        "colab_type": "text"
      },
      "source": [
        "# XGBRegressor pipeline and GridSearchCV"
      ]
    },
    {
      "cell_type": "code",
      "metadata": {
        "id": "uvfGl6q7fZeb",
        "colab_type": "code",
        "outputId": "4ff731fd-a878-4113-e701-9dfe5a1d38da",
        "colab": {
          "base_uri": "https://localhost:8080/",
          "height": 35
        }
      },
      "source": [
        "numeric_features = numericColumns\n",
        "numeric_transformer = Pipeline(steps=[\n",
        "    ('imputer', SimpleImputer(strategy='mean')),\n",
        "    ('scaler', StandardScaler())])\n",
        "\n",
        "\n",
        "categorical_features = categoricalColumns\n",
        "categorical_transformer = Pipeline(steps=[\n",
        "    ('imputer', SimpleImputer(strategy='constant', fill_value='missing')),\n",
        "    ('onehot', OneHotEncoder(handle_unknown='ignore'))])\n",
        "\n",
        "\n",
        "preprocessor = ColumnTransformer(\n",
        "    transformers=[\n",
        "        ('num', numeric_transformer, numeric_features),\n",
        "        ('cat', categorical_transformer, categorical_features)])\n",
        "\n",
        "\n",
        "XGB_pipeline = Pipeline(steps=[('preprocessor', preprocessor),\n",
        "                               ('regressor', XGBRegressor(colsample_bytree=0.4603, gamma=0.0468, \n",
        "                                                          min_child_weight=1.7817, n_estimators=2200,\n",
        "                                                          reg_alpha=0.4640, reg_lambda=0.8571,\n",
        "                                                          subsample=0.5213, silent=1,\n",
        "                                                          random_state =7, nthread = -1))])\n",
        "\n",
        "\n",
        "XGB_param_grid = {\n",
        "    'regressor__learning_rate':[0.01, 0.05, 0.1, 0.5],\n",
        "    'regressor__max_depth':[3,4]\n",
        "}\n",
        "\n",
        "\n",
        "# 'neg_mean_squared_error', metrics.mean_squared_error is used here\n",
        "scoring_metrics = make_scorer(mean_squared_error, greater_is_better=False)\n",
        "\n",
        "\n",
        "XGB_grid_search = GridSearchCV(XGB_pipeline, XGB_param_grid, scoring = scoring_metrics, cv = 5)\n",
        "XGB_grid_search.fit(df_train[numericColumns+categoricalColumns], df_train['SalePrice'])\n",
        "\n",
        "\n",
        "print(f\"best score is {XGB_grid_search.best_score_}, best parameter from grid search is {XGB_grid_search.best_params_}\")"
      ],
      "execution_count": 16,
      "outputs": [
        {
          "output_type": "stream",
          "text": [
            "best score is -0.013037841644771614, best parameter from grid search is {'regressor__learning_rate': 0.05, 'regressor__max_depth': 3}\n"
          ],
          "name": "stdout"
        }
      ]
    },
    {
      "cell_type": "code",
      "metadata": {
        "id": "ZVaBNNjafZXq",
        "colab_type": "code",
        "outputId": "817b92a2-8a30-4bae-8aeb-60965818f998",
        "colab": {
          "base_uri": "https://localhost:8080/",
          "height": 35
        }
      },
      "source": [
        "np.sqrt(XGB_grid_search.best_score_ * -1)"
      ],
      "execution_count": 17,
      "outputs": [
        {
          "output_type": "execute_result",
          "data": {
            "text/plain": [
              "0.11418336851210693"
            ]
          },
          "metadata": {
            "tags": []
          },
          "execution_count": 17
        }
      ]
    },
    {
      "cell_type": "markdown",
      "metadata": {
        "id": "VSCd0kBNjqmT",
        "colab_type": "text"
      },
      "source": [
        "# LGBRegressor pipeline and GridSearchCV"
      ]
    },
    {
      "cell_type": "code",
      "metadata": {
        "id": "k-2NED8niQRO",
        "colab_type": "code",
        "outputId": "4544c1fc-cf81-4010-91e4-76ac2d20fcfb",
        "colab": {
          "base_uri": "https://localhost:8080/",
          "height": 35
        }
      },
      "source": [
        "numeric_features = numericColumns\n",
        "numeric_transformer = Pipeline(steps=[\n",
        "    ('imputer', SimpleImputer(strategy='mean')),\n",
        "    ('scaler', StandardScaler())])\n",
        "\n",
        "\n",
        "categorical_features = categoricalColumns\n",
        "categorical_transformer = Pipeline(steps=[\n",
        "    ('imputer', SimpleImputer(strategy='constant', fill_value='missing')),\n",
        "    ('onehot', OneHotEncoder(handle_unknown='ignore'))])\n",
        "\n",
        "\n",
        "preprocessor = ColumnTransformer(\n",
        "    transformers=[\n",
        "        ('num', numeric_transformer, numeric_features),\n",
        "        ('cat', categorical_transformer, categorical_features)])\n",
        "\n",
        "\n",
        "LGB_pipeline = Pipeline(steps=[('preprocessor', preprocessor),\n",
        "                               ('regressor', LGBMRegressor(objective='regression',n_estimators=720,\n",
        "                                                           max_bin = 55, bagging_fraction = 0.8,\n",
        "                                                           bagging_freq = 5, feature_fraction = 0.2319,\n",
        "                                                           feature_fraction_seed=9, bagging_seed=9,\n",
        "                                                           min_data_in_leaf =6, min_sum_hessian_in_leaf = 11))])\n",
        "\n",
        "\n",
        "LGB_param_grid = {\n",
        "    'regressor__learning_rate':[0.01, 0.05, 0.1, 0.5],\n",
        "    'regressor__max_depth':[3,4,5,10]\n",
        "}\n",
        "\n",
        "\n",
        "# 'neg_mean_squared_error', metrics.mean_squared_error is used here\n",
        "scoring_metrics = make_scorer(mean_squared_error, greater_is_better=False)\n",
        "\n",
        "\n",
        "LGB_grid_search = GridSearchCV(LGB_pipeline, LGB_param_grid, scoring = scoring_metrics, cv = 5)\n",
        "LGB_grid_search.fit(df_train[numericColumns+categoricalColumns], df_train['SalePrice'])\n",
        "\n",
        "\n",
        "print(f\"best score is {LGB_grid_search.best_score_}, best parameter from grid search is {LGB_grid_search.best_params_}\")"
      ],
      "execution_count": 18,
      "outputs": [
        {
          "output_type": "stream",
          "text": [
            "best score is -0.012822351683941694, best parameter from grid search is {'regressor__learning_rate': 0.05, 'regressor__max_depth': 3}\n"
          ],
          "name": "stdout"
        }
      ]
    },
    {
      "cell_type": "code",
      "metadata": {
        "id": "wpYgUC9eiQGZ",
        "colab_type": "code",
        "outputId": "f48932a1-4ed4-49e5-f40f-47c81610aeaf",
        "colab": {
          "base_uri": "https://localhost:8080/",
          "height": 35
        }
      },
      "source": [
        "np.sqrt(LGB_grid_search.best_score_ * -1)"
      ],
      "execution_count": 19,
      "outputs": [
        {
          "output_type": "execute_result",
          "data": {
            "text/plain": [
              "0.11323582332434244"
            ]
          },
          "metadata": {
            "tags": []
          },
          "execution_count": 19
        }
      ]
    },
    {
      "cell_type": "markdown",
      "metadata": {
        "id": "fuNGjZ5Xm_mB",
        "colab_type": "text"
      },
      "source": [
        "# overview"
      ]
    },
    {
      "cell_type": "code",
      "metadata": {
        "id": "3TcUD1Fckdxs",
        "colab_type": "code",
        "outputId": "3f30ac85-2c13-4357-cfbb-d97bde98e88e",
        "colab": {
          "base_uri": "https://localhost:8080/",
          "height": 139
        }
      },
      "source": [
        "print(f'Ridge score is {np.sqrt(ridge_grid_search.best_score_ * -1)}')\n",
        "print(f'Lasso score is {np.sqrt(lasso_grid_search.best_score_ * -1)}')\n",
        "print(f'ElasticNet score is {np.sqrt(ElasticNet_grid_search.best_score_ * -1)}')\n",
        "print(f'KRR score is {np.sqrt(KRR_grid_search.best_score_ * -1)}')\n",
        "print(f'GradientBoosting score is {np.sqrt(gradientBoost_grid_search.best_score_ * -1)}')\n",
        "print(f'XGBoosting score is {np.sqrt(XGB_grid_search.best_score_ * -1)}')\n",
        "print(f'LGBoosting score is {np.sqrt(LGB_grid_search.best_score_ * -1)}')"
      ],
      "execution_count": 20,
      "outputs": [
        {
          "output_type": "stream",
          "text": [
            "Ridge score is 0.11353489315048328\n",
            "Lasso score is 0.11118171778462432\n",
            "ElasticNet score is 0.11122236468840378\n",
            "KRR score is 0.11322596291030232\n",
            "GradientBoosting score is 0.11111049287476951\n",
            "XGBoosting score is 0.11418336851210693\n",
            "LGBoosting score is 0.11323582332434244\n"
          ],
          "name": "stdout"
        }
      ]
    },
    {
      "cell_type": "markdown",
      "metadata": {
        "id": "eEO8f9pf0A2B",
        "colab_type": "text"
      },
      "source": [
        "# generate prediction result"
      ]
    },
    {
      "cell_type": "code",
      "metadata": {
        "id": "HnEHXl7PWV4w",
        "colab_type": "code",
        "colab": {}
      },
      "source": [
        "# generate result\n",
        "\n",
        "ridge_grid_search.fit(df_train[numericColumns+categoricalColumns], df_train['SalePrice'])\n",
        "\n",
        "# inverse transform the result by applying exponential function\n",
        "result = np.expm1(ridge_grid_search.predict(df_test[numericColumns+categoricalColumns]))\n",
        "\n",
        "sub = pd.DataFrame(columns = ['Id', 'SalePrice'])\n",
        "sub['Id'] = df_test.loc[:,'Id']\n",
        "sub['SalePrice'] = result\n",
        "sub\n",
        "sub.to_csv(r\"submission.csv\")"
      ],
      "execution_count": 0,
      "outputs": []
    },
    {
      "cell_type": "code",
      "metadata": {
        "id": "7-F9XZCc2iqD",
        "colab_type": "code",
        "colab": {}
      },
      "source": [
        ""
      ],
      "execution_count": 0,
      "outputs": []
    }
  ]
}